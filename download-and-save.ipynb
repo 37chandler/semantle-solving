{
 "cells": [
  {
   "cell_type": "markdown",
   "id": "f11c4d78",
   "metadata": {},
   "source": [
    "This notebook let's you download and save the (pretty large) word2vec data set that is used underneath Semantle"
   ]
  },
  {
   "cell_type": "code",
   "execution_count": null,
   "id": "e364827f",
   "metadata": {},
   "outputs": [],
   "source": [
    "import gensim.downloader\n",
    "print(list(gensim.downloader.info()['models'].keys()))"
   ]
  },
  {
   "cell_type": "code",
   "execution_count": null,
   "id": "8d343ee7",
   "metadata": {},
   "outputs": [],
   "source": [
    "w2v = gensim.downloader.load('word2vec-google-news-300')"
   ]
  },
  {
   "cell_type": "code",
   "execution_count": null,
   "id": "379ac7a1",
   "metadata": {},
   "outputs": [],
   "source": [
    "w2v.save('word2vec.model')"
   ]
  }
 ],
 "metadata": {
  "kernelspec": {
   "display_name": "Python 3 (ipykernel)",
   "language": "python",
   "name": "python3"
  },
  "language_info": {
   "codemirror_mode": {
    "name": "ipython",
    "version": 3
   },
   "file_extension": ".py",
   "mimetype": "text/x-python",
   "name": "python",
   "nbconvert_exporter": "python",
   "pygments_lexer": "ipython3",
   "version": "3.8.8"
  }
 },
 "nbformat": 4,
 "nbformat_minor": 5
}
