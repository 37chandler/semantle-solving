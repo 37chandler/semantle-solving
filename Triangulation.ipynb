{
 "cells": [
  {
   "cell_type": "markdown",
   "id": "00c42f4c",
   "metadata": {},
   "source": [
    "This code allows you to put in three words of your choosing and it will try to solve Semantle for you."
   ]
  },
  {
   "cell_type": "code",
   "execution_count": null,
   "id": "b77a108b",
   "metadata": {},
   "outputs": [],
   "source": [
    "import numpy as np\n",
    "import os\n",
    "import re\n",
    "import random\n",
    "from scipy.spatial.distance import cdist \n",
    "from sklearn.preprocessing import normalize\n",
    "from gensim import models\n",
    "from collections import defaultdict\n"
   ]
  },
  {
   "cell_type": "markdown",
   "id": "3e336490",
   "metadata": {},
   "source": [
    "## Load in the language model"
   ]
  },
  {
   "cell_type": "code",
   "execution_count": null,
   "id": "31eb802b",
   "metadata": {},
   "outputs": [],
   "source": [
    "w2v = models.KeyedVectors.load(\"word2vec.model\")"
   ]
  },
  {
   "cell_type": "code",
   "execution_count": null,
   "id": "af74281e",
   "metadata": {},
   "outputs": [],
   "source": [
    "lower_ascii = re.compile(r\"^[a-z]+$\")"
   ]
  },
  {
   "cell_type": "code",
   "execution_count": null,
   "id": "220c3872",
   "metadata": {},
   "outputs": [],
   "source": [
    "words = w2v.index_to_key\n",
    "\n",
    "# semantle uses only lowercase ascii\n",
    "words = [w for w in words if lower_ascii.match(w)]\n"
   ]
  },
  {
   "cell_type": "markdown",
   "id": "4933fc4c",
   "metadata": {},
   "source": [
    "Now we create a matrix of all the word vectors that go with these words and we'll renormalize."
   ]
  },
  {
   "cell_type": "code",
   "execution_count": null,
   "id": "d60a8feb",
   "metadata": {},
   "outputs": [],
   "source": [
    "vecs = []\n",
    "\n",
    "for word in words : \n",
    "    vecs.append(w2v[word])\n",
    "\n",
    "vec_mat = np.vstack(vecs)\n",
    "# Adapted from https://github.com/manimino/semantle-crab/blob/main/notebooks/crab.ipynb"
   ]
  },
  {
   "cell_type": "code",
   "execution_count": null,
   "id": "f9bcbfd1",
   "metadata": {},
   "outputs": [],
   "source": [
    "vec_mat = normalize(vec_mat,axis=1)"
   ]
  },
  {
   "cell_type": "code",
   "execution_count": null,
   "id": "e692dcd0",
   "metadata": {},
   "outputs": [],
   "source": [
    "vec_mat.shape"
   ]
  },
  {
   "cell_type": "markdown",
   "id": "7569f40a",
   "metadata": {},
   "source": [
    "## Work with distances"
   ]
  },
  {
   "cell_type": "code",
   "execution_count": null,
   "id": "9989dd54",
   "metadata": {},
   "outputs": [],
   "source": [
    "# Both of these functions build off of this: https://github.com/manimino/semantle-crab/blob/main/notebooks/crab.ipynb\n",
    "# which has the correct semantle distance function\n",
    "\n",
    "def get_all_dists(target,word_list, matrix):\n",
    "    idx = word_list.index(target)\n",
    "    vec = np.array([matrix[idx, :]])\n",
    "    dists = cdist(vec, matrix, metric='cosine')\n",
    "    semantle_scores = np.round((1-dists)*100, 1)[0]\n",
    "    score_list = semantle_scores.tolist()\n",
    "    return(score_list)\n",
    "\n",
    "\n",
    "def pair_dist(word_1, word_2 ,word_list, matrix):\n",
    "    idx_1 = word_list.index(word_1)\n",
    "    idx_2 = word_list.index(word_2)\n",
    "    vec_1 = np.array([matrix[idx_1, :]])\n",
    "    vec_2 = np.array([matrix[idx_2, :]])\n",
    "    dist = cdist(vec_1, vec_2, metric='cosine')\n",
    "    semantle_score = np.round((1-dist)*100, 1)[0].tolist()\n",
    "    return(semantle_score[0])\n"
   ]
  },
  {
   "cell_type": "markdown",
   "id": "b929d561",
   "metadata": {},
   "source": [
    "Put your first three guesses and their scores in the cell below."
   ]
  },
  {
   "cell_type": "code",
   "execution_count": null,
   "id": "fc392086",
   "metadata": {},
   "outputs": [],
   "source": [
    "guesses = {\n",
    "    'word1' : 0.0, # put the scores as values\n",
    "    'word2' : 0.0,\n",
    "    'word3' : 0.0\n",
    "}"
   ]
  },
  {
   "cell_type": "code",
   "execution_count": null,
   "id": "ec4e1cee",
   "metadata": {},
   "outputs": [],
   "source": [
    "scores = defaultdict(float)\n",
    "\n",
    "for word,score in guesses.items() :\n",
    "    all_scores = get_all_dists(word,words,vec_mat)\n",
    "    \n",
    "    for idx, score2 in enumerate(all_scores) : \n",
    "        scores[words[idx]] += abs(score2-score)\n",
    "    \n",
    "    \n",
    "    \n",
    "    "
   ]
  },
  {
   "cell_type": "code",
   "execution_count": null,
   "id": "e60adca7",
   "metadata": {},
   "outputs": [],
   "source": [
    "print(\"Here are the top 5 guesses and their error.\")\n",
    "\n",
    "num_printed = 0\n",
    "for word, error in sorted(scores.items(), key=lambda item: item[1]) :\n",
    "    print(f\"{word} has {error:.2f} error.\")\n",
    "\n",
    "    num_printed += 1\n",
    "    if num_printed == 5 : \n",
    "        break\n"
   ]
  }
 ],
 "metadata": {
  "kernelspec": {
   "display_name": "Python 3 (ipykernel)",
   "language": "python",
   "name": "python3"
  },
  "language_info": {
   "codemirror_mode": {
    "name": "ipython",
    "version": 3
   },
   "file_extension": ".py",
   "mimetype": "text/x-python",
   "name": "python",
   "nbconvert_exporter": "python",
   "pygments_lexer": "ipython3",
   "version": "3.8.8"
  }
 },
 "nbformat": 4,
 "nbformat_minor": 5
}
